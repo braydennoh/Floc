{
 "cells": [
  {
   "cell_type": "code",
   "execution_count": null,
   "id": "dd56a23a",
   "metadata": {},
   "outputs": [],
   "source": [
    "import numpy as np\n",
    "import matplotlib.pyplot as plt\n",
    "import cv2\n",
    "import os\n",
    "import matplotlib as mpl\n",
    "import matplotlib.patches as ptc\n",
    "mpl.rcParams['figure.dpi'] = 1000\n",
    "import numpy as np\n",
    "import torch\n",
    "import matplotlib.pyplot as plt\n",
    "import cv2\n",
    "from sklearn.cluster import KMeans\n",
    "import numpy as np\n",
    "import matplotlib.pyplot as plt\n",
    "import cv2"
   ]
  },
  {
   "cell_type": "code",
   "execution_count": null,
   "id": "2fcf2562",
   "metadata": {},
   "outputs": [],
   "source": [
    "os.chdir('/Users/braydennoh/Downloads/floc/80clay/images')\n",
    "image = cv2.imread('frame3182.jpg')\n",
    "plt.imshow(image)"
   ]
  },
  {
   "cell_type": "code",
   "execution_count": null,
   "id": "301926cc",
   "metadata": {},
   "outputs": [],
   "source": [
    "gray = cv2.cvtColor(image, cv2.COLOR_BGR2GRAY)\n",
    "threshold_value = 170\n",
    "_, binarized_image = cv2.threshold(gray, threshold_value, 255, cv2.THRESH_BINARY)\n",
    "binarized_image = cv2.bitwise_not(binarized_image)\n",
    "plt.imshow(binarized_image)"
   ]
  },
  {
   "cell_type": "code",
   "execution_count": null,
   "id": "f39286b9",
   "metadata": {},
   "outputs": [],
   "source": [
    "import cv2\n",
    "from matplotlib import pyplot as plt\n",
    "import numpy as np\n",
    "\n",
    "contours, _ = cv2.findContours(binarized_image, cv2.RETR_EXTERNAL, cv2.CHAIN_APPROX_SIMPLE)\n",
    "image_with_circles = image.copy()\n",
    "\n",
    "min_radius = 5\n",
    "centers = []\n",
    "radii = []\n",
    "\n",
    "# Create an overlay image with the same size as the original image\n",
    "overlay = np.zeros_like(image_with_circles, dtype=np.uint8)\n",
    "\n",
    "# Semi-transparent orange-red color\n",
    "color = (0, 69, 255)\n",
    "\n",
    "for contour in contours:\n",
    "    (x, y), radius = cv2.minEnclosingCircle(contour)\n",
    "    if radius > min_radius:\n",
    "        center = (int(x), int(y))\n",
    "        radius = int(radius)\n",
    "        centers.append(center)\n",
    "        radii.append(radius)\n",
    "        # Draw filled circles on the overlay image\n",
    "        cv2.circle(overlay, center, radius, color, -1)\n",
    "\n",
    "# Blend the overlay image with the original image\n",
    "alpha = 0.5  # Transparency factor\n",
    "cv2.addWeighted(overlay, alpha, image_with_circles, 1 - alpha, 0, image_with_circles)\n",
    "\n",
    "# Connect clusters that are close to each other\n",
    "threshold_distance = 100  # You can adjust this value\n",
    "for i in range(len(centers)):\n",
    "    for j in range(i + 1, len(centers)):\n",
    "        distance = np.linalg.norm(np.array(centers[i]) - np.array(centers[j]))\n",
    "        if distance < threshold_distance:\n",
    "            cv2.line(image_with_circles, centers[i], centers[j], color, 10)\n",
    "\n",
    "# Make the circle for the k cluster thicker\n",
    "k_cluster_index = 0  # Index of the k cluster\n",
    "cv2.circle(image_with_circles, centers[k_cluster_index], radii[k_cluster_index], color, 10)\n",
    "\n",
    "# Display the image with circles\n",
    "plt.imshow(cv2.cvtColor(image_with_circles, cv2.COLOR_BGR2RGB))\n",
    "plt.show()"
   ]
  }
 ],
 "metadata": {
  "kernelspec": {
   "display_name": "Python 3 (ipykernel)",
   "language": "python",
   "name": "python3"
  },
  "language_info": {
   "codemirror_mode": {
    "name": "ipython",
    "version": 3
   },
   "file_extension": ".py",
   "mimetype": "text/x-python",
   "name": "python",
   "nbconvert_exporter": "python",
   "pygments_lexer": "ipython3",
   "version": "3.10.9"
  }
 },
 "nbformat": 4,
 "nbformat_minor": 5
}
